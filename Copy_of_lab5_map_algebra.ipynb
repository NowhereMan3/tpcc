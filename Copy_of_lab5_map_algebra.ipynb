{
  "cells": [
    {
      "cell_type": "markdown",
      "metadata": {
        "id": "view-in-github",
        "colab_type": "text"
      },
      "source": [
        "<a href=\"https://colab.research.google.com/github/NowhereMan3/tpcc/blob/master/Copy_of_lab5_map_algebra.ipynb\" target=\"_parent\"><img src=\"https://colab.research.google.com/assets/colab-badge.svg\" alt=\"Open In Colab\"/></a>"
      ]
    },
    {
      "cell_type": "markdown",
      "id": "6529ba43-e266-44bb-ac59-eeb016200f2c",
      "metadata": {
        "id": "6529ba43-e266-44bb-ac59-eeb016200f2c"
      },
      "source": [
        "# Map Algebra: creating agro-climatic zone map for the Nakuru District in Kenya\n",
        "\n",
        "    This tutorial is created based on Idrisi software tutorial Map Algebra.\n",
        "\n",
        "Aim: In this exercise, we will create an agro-climatic zone map for the Nakuru District in Kenya. The Nakuru District lies in the Great Rift Valley of East Africa and contains several lakes that are home to immense flocks of pink flamingos.\n",
        "\n",
        "An agro-climatic zone map is a basic means of assessing the climatic suitability of geographical areas for various agricultural alternatives. Our final raster will be one in which every pixel is assigned to its proper agro-climatic zone according to the stated criteria. The approach illustrated here is a very simple one adapted from the 1:1,000,000 Agro-Climatic Zone Map of Kenya (1980, Kenya Soil Survey, Ministry of Agriculture). It recognizes that the major aspects of climate that affect plant growth are moisture availability and temperature.\n",
        "\n",
        "While important agricultural factors such as length and intensity of the rainy and dry seasons and annual variation are not accounted for in this model, this simpler approach does provide a basic tool for national planning purposes."
      ]
    },
    {
      "cell_type": "markdown",
      "id": "846717bf-ccad-4555-a5dd-4b830a272211",
      "metadata": {
        "id": "846717bf-ccad-4555-a5dd-4b830a272211"
      },
      "source": [
        "### Table 1. Temperature zones\n",
        "\n",
        "|    |   Temperature Zone | Temperature Range (C)   |\n",
        "|---:|-------------------:|:------------------------|\n",
        "|  0 |                  9 | <10                     |\n",
        "|  1 |                  8 | 10-12                   |\n",
        "|  2 |                  7 | 12-14                   |\n",
        "|  3 |                  6 | 14-16                   |\n",
        "|  4 |                  5 | 16-18                   |\n",
        "|  5 |                  4 | 18-20                   |\n",
        "|  6 |                  3 | 20-22                   |\n",
        "|  7 |                  2 | 22-24                   |\n",
        "|  8 |                  1 | 24-30                   |"
      ]
    },
    {
      "cell_type": "markdown",
      "id": "752e825e-b06a-46ff-9c8d-e872f7787499",
      "metadata": {
        "id": "752e825e-b06a-46ff-9c8d-e872f7787499"
      },
      "source": [
        "### Table 2. Moisture availability zones\n",
        "\n",
        "|    |   Moisture Availability Zone | Moisture Availability Range   |\n",
        "|---:|-----------------------------:|:------------------------------|\n",
        "|  0 |                            7 | <0.15                         |\n",
        "|  1 |                            6 | 0.15-0.25                     |\n",
        "|  2 |                            5 | 0.25-0.40                     |\n",
        "|  3 |                            4 | 0.40-0.50                     |\n",
        "|  4 |                            3 | 0.50-0.65                     |\n",
        "|  5 |                            2 | 0.65-0.80                     |\n",
        "|  6 |                            1 | >0.80                         |\n"
      ]
    },
    {
      "cell_type": "markdown",
      "id": "755e49a1-e224-4a57-b173-c83a81d392c7",
      "metadata": {
        "id": "755e49a1-e224-4a57-b173-c83a81d392c7"
      },
      "source": [
        "Helpful info how to work with raster data:\n",
        "\n",
        "- https://kodu.ut.ee/~kmoch/geopython2021/L5/raster.html"
      ]
    },
    {
      "cell_type": "code",
      "source": [
        "pip install rasterio"
      ],
      "metadata": {
        "colab": {
          "base_uri": "https://localhost:8080/"
        },
        "id": "cwkPjgJ-ptHl",
        "outputId": "fce52534-ecbc-4680-e1fd-98db3427cf89"
      },
      "id": "cwkPjgJ-ptHl",
      "execution_count": null,
      "outputs": [
        {
          "output_type": "stream",
          "name": "stdout",
          "text": [
            "Collecting rasterio\n",
            "  Downloading rasterio-1.3.9-cp310-cp310-manylinux2014_x86_64.whl (20.6 MB)\n",
            "\u001b[2K     \u001b[90m━━━━━━━━━━━━━━━━━━━━━━━━━━━━━━━━━━━━━━━━\u001b[0m \u001b[32m20.6/20.6 MB\u001b[0m \u001b[31m29.5 MB/s\u001b[0m eta \u001b[36m0:00:00\u001b[0m\n",
            "\u001b[?25hCollecting affine (from rasterio)\n",
            "  Downloading affine-2.4.0-py3-none-any.whl (15 kB)\n",
            "Requirement already satisfied: attrs in /usr/local/lib/python3.10/dist-packages (from rasterio) (23.2.0)\n",
            "Requirement already satisfied: certifi in /usr/local/lib/python3.10/dist-packages (from rasterio) (2024.2.2)\n",
            "Requirement already satisfied: click>=4.0 in /usr/local/lib/python3.10/dist-packages (from rasterio) (8.1.7)\n",
            "Requirement already satisfied: cligj>=0.5 in /usr/local/lib/python3.10/dist-packages (from rasterio) (0.7.2)\n",
            "Requirement already satisfied: numpy in /usr/local/lib/python3.10/dist-packages (from rasterio) (1.25.2)\n",
            "Collecting snuggs>=1.4.1 (from rasterio)\n",
            "  Downloading snuggs-1.4.7-py3-none-any.whl (5.4 kB)\n",
            "Requirement already satisfied: click-plugins in /usr/local/lib/python3.10/dist-packages (from rasterio) (1.1.1)\n",
            "Requirement already satisfied: setuptools in /usr/local/lib/python3.10/dist-packages (from rasterio) (67.7.2)\n",
            "Requirement already satisfied: pyparsing>=2.1.6 in /usr/local/lib/python3.10/dist-packages (from snuggs>=1.4.1->rasterio) (3.1.2)\n",
            "Installing collected packages: snuggs, affine, rasterio\n",
            "Successfully installed affine-2.4.0 rasterio-1.3.9 snuggs-1.4.7\n"
          ]
        }
      ]
    },
    {
      "cell_type": "code",
      "execution_count": null,
      "id": "34b15d37-5c66-4806-8be8-40c8410ec820",
      "metadata": {
        "id": "34b15d37-5c66-4806-8be8-40c8410ec820"
      },
      "outputs": [],
      "source": [
        "import rasterio\n",
        "import numpy as np"
      ]
    },
    {
      "cell_type": "code",
      "execution_count": null,
      "id": "ff4cdb58-b5e6-4a24-92f7-cae27aa2d896",
      "metadata": {
        "id": "ff4cdb58-b5e6-4a24-92f7-cae27aa2d896"
      },
      "outputs": [],
      "source": [
        "import pandas as pd\n",
        "import geopandas as gpd\n",
        "from shapely.geometry import Point, Polygon"
      ]
    },
    {
      "cell_type": "code",
      "execution_count": null,
      "id": "8404a9f9-7f1d-4224-a670-d3aab3c80c4d",
      "metadata": {
        "colab": {
          "base_uri": "https://localhost:8080/"
        },
        "id": "8404a9f9-7f1d-4224-a670-d3aab3c80c4d",
        "outputId": "d774f548-290d-423f-8204-5e9865418ba4"
      },
      "outputs": [
        {
          "output_type": "execute_result",
          "data": {
            "text/plain": [
              "['.config', 'sample_data']"
            ]
          },
          "metadata": {},
          "execution_count": 36
        }
      ],
      "source": [
        "import os\n",
        "\n",
        "os.listdir()"
      ]
    },
    {
      "cell_type": "markdown",
      "id": "edad6b6d-23c7-4cfd-ace1-c0be54f4ffdd",
      "metadata": {
        "id": "edad6b6d-23c7-4cfd-ace1-c0be54f4ffdd"
      },
      "source": [
        "### Data\n",
        "\n",
        "1)\tPrecipitation raster nrain.tiff and elevation raster nrelief.tiff (Source: Idrisi, Clark Labs)\n",
        "2)\tText file of weather stations with elevation and temperature data weather_stations.txt (Source: Idrisi, Clark Labs)\n"
      ]
    },
    {
      "cell_type": "code",
      "execution_count": null,
      "id": "6bfd1a57-05e1-4b53-aa9c-9be3ec3b83b7",
      "metadata": {
        "colab": {
          "base_uri": "https://localhost:8080/",
          "height": 329
        },
        "id": "6bfd1a57-05e1-4b53-aa9c-9be3ec3b83b7",
        "outputId": "99e9cedc-380a-462e-e3c1-e65929df5184"
      },
      "outputs": [
        {
          "output_type": "display_data",
          "data": {
            "text/plain": [
              "{'driver': 'GTiff',\n",
              " 'dtype': 'float32',\n",
              " 'nodata': None,\n",
              " 'width': 191,\n",
              " 'height': 267,\n",
              " 'count': 1,\n",
              " 'crs': CRS.from_wkt('LOCAL_CS[\"Plane\",UNIT[\"metre\",1,AUTHORITY[\"EPSG\",\"9001\"]],AXIS[\"Easting\",EAST],AXIS[\"Northing\",NORTH]]'),\n",
              " 'transform': Affine(250.0, 0.0, 0.0,\n",
              "        0.0, -250.0, 66750.0)}"
            ]
          },
          "metadata": {}
        },
        {
          "output_type": "display_data",
          "data": {
            "text/plain": [
              "{'driver': 'GTiff',\n",
              " 'dtype': 'int16',\n",
              " 'nodata': None,\n",
              " 'width': 191,\n",
              " 'height': 267,\n",
              " 'count': 1,\n",
              " 'crs': CRS.from_wkt('LOCAL_CS[\"Plane\",UNIT[\"metre\",1,AUTHORITY[\"EPSG\",\"9001\"]],AXIS[\"Easting\",EAST],AXIS[\"Northing\",NORTH]]'),\n",
              " 'transform': Affine(250.0, 0.0, 0.0,\n",
              "        0.0, -250.0, 66750.0)}"
            ]
          },
          "metadata": {}
        }
      ],
      "source": [
        "nrain_src = rasterio.open('/usr/map_algebra/nrain.tif')\n",
        "nrelief_src = rasterio.open('/usr/map_algebra/nrelief.tif')\n",
        "display(nrain_src.meta)\n",
        "display(nrelief_src.meta)"
      ]
    },
    {
      "cell_type": "code",
      "execution_count": null,
      "id": "77b03c43-f87a-4680-8925-279cd308f853",
      "metadata": {
        "id": "77b03c43-f87a-4680-8925-279cd308f853"
      },
      "outputs": [],
      "source": [
        "# pd.read_table('/usr/map_algebra/weather_stations.txt')\n"
      ]
    },
    {
      "cell_type": "code",
      "execution_count": null,
      "id": "37b12b34-08b5-475d-8fbc-ba0371d8ab8c",
      "metadata": {
        "id": "37b12b34-08b5-475d-8fbc-ba0371d8ab8c"
      },
      "outputs": [],
      "source": []
    },
    {
      "cell_type": "markdown",
      "id": "62b632ae-4aa9-4ef3-8009-7f719e77295f",
      "metadata": {
        "id": "62b632ae-4aa9-4ef3-8009-7f719e77295f"
      },
      "source": [
        "## Workflow\n",
        "\n",
        "![image.png](attachment:bf818fb3-802e-4d0c-8a9f-05fe5b0423aa.png)"
      ]
    },
    {
      "cell_type": "markdown",
      "id": "5dadd102-afd8-48e6-bb2f-3fba1567d422",
      "metadata": {
        "id": "5dadd102-afd8-48e6-bb2f-3fba1567d422"
      },
      "source": [
        "## First path: Create temperature zones raster\n",
        "\n",
        "### Regression\n",
        "\n",
        "- build regression model"
      ]
    },
    {
      "cell_type": "code",
      "execution_count": null,
      "id": "88c51541-40f0-4963-b612-0c9835a83bd7",
      "metadata": {
        "id": "88c51541-40f0-4963-b612-0c9835a83bd7"
      },
      "outputs": [],
      "source": [
        "from sklearn.linear_model import LinearRegression\n",
        "import matplotlib.pyplot as plt\n",
        "import matplotlib.patches as mpatches\n",
        "import io"
      ]
    },
    {
      "cell_type": "code",
      "source": [
        "import pandas as pd\n",
        "weather_stations_df = pd.read_csv('/usr/map_algebra/weather_stations.txt',delimiter='\\t')"
      ],
      "metadata": {
        "id": "9-rO8K4VWqUx"
      },
      "id": "9-rO8K4VWqUx",
      "execution_count": null,
      "outputs": []
    },
    {
      "cell_type": "code",
      "source": [
        "weather_stations_df"
      ],
      "metadata": {
        "colab": {
          "base_uri": "https://localhost:8080/",
          "height": 332
        },
        "id": "xRoM_hEEk25q",
        "outputId": "cadfe5a0-787b-4376-8c46-b08d8345c535"
      },
      "id": "xRoM_hEEk25q",
      "execution_count": null,
      "outputs": [
        {
          "output_type": "execute_result",
          "data": {
            "text/plain": [
              "   Station  Elevation_ft  Mean_annual_temp_C\n",
              "0        1          7086                15.7\n",
              "1        2          7342                14.9\n",
              "2        3          8202                13.7\n",
              "3        4          9199                12.4\n",
              "4        5          6024                18.2\n",
              "5        6          6001                16.8\n",
              "6        7          6352                16.3\n",
              "7        8          7001                16.3\n",
              "8        9          6168                17.2"
            ],
            "text/html": [
              "\n",
              "  <div id=\"df-27b36efc-bfb8-4c84-b170-876784c6464b\" class=\"colab-df-container\">\n",
              "    <div>\n",
              "<style scoped>\n",
              "    .dataframe tbody tr th:only-of-type {\n",
              "        vertical-align: middle;\n",
              "    }\n",
              "\n",
              "    .dataframe tbody tr th {\n",
              "        vertical-align: top;\n",
              "    }\n",
              "\n",
              "    .dataframe thead th {\n",
              "        text-align: right;\n",
              "    }\n",
              "</style>\n",
              "<table border=\"1\" class=\"dataframe\">\n",
              "  <thead>\n",
              "    <tr style=\"text-align: right;\">\n",
              "      <th></th>\n",
              "      <th>Station</th>\n",
              "      <th>Elevation_ft</th>\n",
              "      <th>Mean_annual_temp_C</th>\n",
              "    </tr>\n",
              "  </thead>\n",
              "  <tbody>\n",
              "    <tr>\n",
              "      <th>0</th>\n",
              "      <td>1</td>\n",
              "      <td>7086</td>\n",
              "      <td>15.7</td>\n",
              "    </tr>\n",
              "    <tr>\n",
              "      <th>1</th>\n",
              "      <td>2</td>\n",
              "      <td>7342</td>\n",
              "      <td>14.9</td>\n",
              "    </tr>\n",
              "    <tr>\n",
              "      <th>2</th>\n",
              "      <td>3</td>\n",
              "      <td>8202</td>\n",
              "      <td>13.7</td>\n",
              "    </tr>\n",
              "    <tr>\n",
              "      <th>3</th>\n",
              "      <td>4</td>\n",
              "      <td>9199</td>\n",
              "      <td>12.4</td>\n",
              "    </tr>\n",
              "    <tr>\n",
              "      <th>4</th>\n",
              "      <td>5</td>\n",
              "      <td>6024</td>\n",
              "      <td>18.2</td>\n",
              "    </tr>\n",
              "    <tr>\n",
              "      <th>5</th>\n",
              "      <td>6</td>\n",
              "      <td>6001</td>\n",
              "      <td>16.8</td>\n",
              "    </tr>\n",
              "    <tr>\n",
              "      <th>6</th>\n",
              "      <td>7</td>\n",
              "      <td>6352</td>\n",
              "      <td>16.3</td>\n",
              "    </tr>\n",
              "    <tr>\n",
              "      <th>7</th>\n",
              "      <td>8</td>\n",
              "      <td>7001</td>\n",
              "      <td>16.3</td>\n",
              "    </tr>\n",
              "    <tr>\n",
              "      <th>8</th>\n",
              "      <td>9</td>\n",
              "      <td>6168</td>\n",
              "      <td>17.2</td>\n",
              "    </tr>\n",
              "  </tbody>\n",
              "</table>\n",
              "</div>\n",
              "    <div class=\"colab-df-buttons\">\n",
              "\n",
              "  <div class=\"colab-df-container\">\n",
              "    <button class=\"colab-df-convert\" onclick=\"convertToInteractive('df-27b36efc-bfb8-4c84-b170-876784c6464b')\"\n",
              "            title=\"Convert this dataframe to an interactive table.\"\n",
              "            style=\"display:none;\">\n",
              "\n",
              "  <svg xmlns=\"http://www.w3.org/2000/svg\" height=\"24px\" viewBox=\"0 -960 960 960\">\n",
              "    <path d=\"M120-120v-720h720v720H120Zm60-500h600v-160H180v160Zm220 220h160v-160H400v160Zm0 220h160v-160H400v160ZM180-400h160v-160H180v160Zm440 0h160v-160H620v160ZM180-180h160v-160H180v160Zm440 0h160v-160H620v160Z\"/>\n",
              "  </svg>\n",
              "    </button>\n",
              "\n",
              "  <style>\n",
              "    .colab-df-container {\n",
              "      display:flex;\n",
              "      gap: 12px;\n",
              "    }\n",
              "\n",
              "    .colab-df-convert {\n",
              "      background-color: #E8F0FE;\n",
              "      border: none;\n",
              "      border-radius: 50%;\n",
              "      cursor: pointer;\n",
              "      display: none;\n",
              "      fill: #1967D2;\n",
              "      height: 32px;\n",
              "      padding: 0 0 0 0;\n",
              "      width: 32px;\n",
              "    }\n",
              "\n",
              "    .colab-df-convert:hover {\n",
              "      background-color: #E2EBFA;\n",
              "      box-shadow: 0px 1px 2px rgba(60, 64, 67, 0.3), 0px 1px 3px 1px rgba(60, 64, 67, 0.15);\n",
              "      fill: #174EA6;\n",
              "    }\n",
              "\n",
              "    .colab-df-buttons div {\n",
              "      margin-bottom: 4px;\n",
              "    }\n",
              "\n",
              "    [theme=dark] .colab-df-convert {\n",
              "      background-color: #3B4455;\n",
              "      fill: #D2E3FC;\n",
              "    }\n",
              "\n",
              "    [theme=dark] .colab-df-convert:hover {\n",
              "      background-color: #434B5C;\n",
              "      box-shadow: 0px 1px 3px 1px rgba(0, 0, 0, 0.15);\n",
              "      filter: drop-shadow(0px 1px 2px rgba(0, 0, 0, 0.3));\n",
              "      fill: #FFFFFF;\n",
              "    }\n",
              "  </style>\n",
              "\n",
              "    <script>\n",
              "      const buttonEl =\n",
              "        document.querySelector('#df-27b36efc-bfb8-4c84-b170-876784c6464b button.colab-df-convert');\n",
              "      buttonEl.style.display =\n",
              "        google.colab.kernel.accessAllowed ? 'block' : 'none';\n",
              "\n",
              "      async function convertToInteractive(key) {\n",
              "        const element = document.querySelector('#df-27b36efc-bfb8-4c84-b170-876784c6464b');\n",
              "        const dataTable =\n",
              "          await google.colab.kernel.invokeFunction('convertToInteractive',\n",
              "                                                    [key], {});\n",
              "        if (!dataTable) return;\n",
              "\n",
              "        const docLinkHtml = 'Like what you see? Visit the ' +\n",
              "          '<a target=\"_blank\" href=https://colab.research.google.com/notebooks/data_table.ipynb>data table notebook</a>'\n",
              "          + ' to learn more about interactive tables.';\n",
              "        element.innerHTML = '';\n",
              "        dataTable['output_type'] = 'display_data';\n",
              "        await google.colab.output.renderOutput(dataTable, element);\n",
              "        const docLink = document.createElement('div');\n",
              "        docLink.innerHTML = docLinkHtml;\n",
              "        element.appendChild(docLink);\n",
              "      }\n",
              "    </script>\n",
              "  </div>\n",
              "\n",
              "\n",
              "<div id=\"df-178e4dba-82b1-4d68-90d1-c826de2bc8c8\">\n",
              "  <button class=\"colab-df-quickchart\" onclick=\"quickchart('df-178e4dba-82b1-4d68-90d1-c826de2bc8c8')\"\n",
              "            title=\"Suggest charts\"\n",
              "            style=\"display:none;\">\n",
              "\n",
              "<svg xmlns=\"http://www.w3.org/2000/svg\" height=\"24px\"viewBox=\"0 0 24 24\"\n",
              "     width=\"24px\">\n",
              "    <g>\n",
              "        <path d=\"M19 3H5c-1.1 0-2 .9-2 2v14c0 1.1.9 2 2 2h14c1.1 0 2-.9 2-2V5c0-1.1-.9-2-2-2zM9 17H7v-7h2v7zm4 0h-2V7h2v10zm4 0h-2v-4h2v4z\"/>\n",
              "    </g>\n",
              "</svg>\n",
              "  </button>\n",
              "\n",
              "<style>\n",
              "  .colab-df-quickchart {\n",
              "      --bg-color: #E8F0FE;\n",
              "      --fill-color: #1967D2;\n",
              "      --hover-bg-color: #E2EBFA;\n",
              "      --hover-fill-color: #174EA6;\n",
              "      --disabled-fill-color: #AAA;\n",
              "      --disabled-bg-color: #DDD;\n",
              "  }\n",
              "\n",
              "  [theme=dark] .colab-df-quickchart {\n",
              "      --bg-color: #3B4455;\n",
              "      --fill-color: #D2E3FC;\n",
              "      --hover-bg-color: #434B5C;\n",
              "      --hover-fill-color: #FFFFFF;\n",
              "      --disabled-bg-color: #3B4455;\n",
              "      --disabled-fill-color: #666;\n",
              "  }\n",
              "\n",
              "  .colab-df-quickchart {\n",
              "    background-color: var(--bg-color);\n",
              "    border: none;\n",
              "    border-radius: 50%;\n",
              "    cursor: pointer;\n",
              "    display: none;\n",
              "    fill: var(--fill-color);\n",
              "    height: 32px;\n",
              "    padding: 0;\n",
              "    width: 32px;\n",
              "  }\n",
              "\n",
              "  .colab-df-quickchart:hover {\n",
              "    background-color: var(--hover-bg-color);\n",
              "    box-shadow: 0 1px 2px rgba(60, 64, 67, 0.3), 0 1px 3px 1px rgba(60, 64, 67, 0.15);\n",
              "    fill: var(--button-hover-fill-color);\n",
              "  }\n",
              "\n",
              "  .colab-df-quickchart-complete:disabled,\n",
              "  .colab-df-quickchart-complete:disabled:hover {\n",
              "    background-color: var(--disabled-bg-color);\n",
              "    fill: var(--disabled-fill-color);\n",
              "    box-shadow: none;\n",
              "  }\n",
              "\n",
              "  .colab-df-spinner {\n",
              "    border: 2px solid var(--fill-color);\n",
              "    border-color: transparent;\n",
              "    border-bottom-color: var(--fill-color);\n",
              "    animation:\n",
              "      spin 1s steps(1) infinite;\n",
              "  }\n",
              "\n",
              "  @keyframes spin {\n",
              "    0% {\n",
              "      border-color: transparent;\n",
              "      border-bottom-color: var(--fill-color);\n",
              "      border-left-color: var(--fill-color);\n",
              "    }\n",
              "    20% {\n",
              "      border-color: transparent;\n",
              "      border-left-color: var(--fill-color);\n",
              "      border-top-color: var(--fill-color);\n",
              "    }\n",
              "    30% {\n",
              "      border-color: transparent;\n",
              "      border-left-color: var(--fill-color);\n",
              "      border-top-color: var(--fill-color);\n",
              "      border-right-color: var(--fill-color);\n",
              "    }\n",
              "    40% {\n",
              "      border-color: transparent;\n",
              "      border-right-color: var(--fill-color);\n",
              "      border-top-color: var(--fill-color);\n",
              "    }\n",
              "    60% {\n",
              "      border-color: transparent;\n",
              "      border-right-color: var(--fill-color);\n",
              "    }\n",
              "    80% {\n",
              "      border-color: transparent;\n",
              "      border-right-color: var(--fill-color);\n",
              "      border-bottom-color: var(--fill-color);\n",
              "    }\n",
              "    90% {\n",
              "      border-color: transparent;\n",
              "      border-bottom-color: var(--fill-color);\n",
              "    }\n",
              "  }\n",
              "</style>\n",
              "\n",
              "  <script>\n",
              "    async function quickchart(key) {\n",
              "      const quickchartButtonEl =\n",
              "        document.querySelector('#' + key + ' button');\n",
              "      quickchartButtonEl.disabled = true;  // To prevent multiple clicks.\n",
              "      quickchartButtonEl.classList.add('colab-df-spinner');\n",
              "      try {\n",
              "        const charts = await google.colab.kernel.invokeFunction(\n",
              "            'suggestCharts', [key], {});\n",
              "      } catch (error) {\n",
              "        console.error('Error during call to suggestCharts:', error);\n",
              "      }\n",
              "      quickchartButtonEl.classList.remove('colab-df-spinner');\n",
              "      quickchartButtonEl.classList.add('colab-df-quickchart-complete');\n",
              "    }\n",
              "    (() => {\n",
              "      let quickchartButtonEl =\n",
              "        document.querySelector('#df-178e4dba-82b1-4d68-90d1-c826de2bc8c8 button');\n",
              "      quickchartButtonEl.style.display =\n",
              "        google.colab.kernel.accessAllowed ? 'block' : 'none';\n",
              "    })();\n",
              "  </script>\n",
              "</div>\n",
              "    </div>\n",
              "  </div>\n"
            ],
            "application/vnd.google.colaboratory.intrinsic+json": {
              "type": "dataframe",
              "variable_name": "weather_stations_df",
              "summary": "{\n  \"name\": \"weather_stations_df\",\n  \"rows\": 9,\n  \"fields\": [\n    {\n      \"column\": \"Station\",\n      \"properties\": {\n        \"dtype\": \"number\",\n        \"std\": 2,\n        \"min\": 1,\n        \"max\": 9,\n        \"num_unique_values\": 9,\n        \"samples\": [\n          8,\n          2,\n          6\n        ],\n        \"semantic_type\": \"\",\n        \"description\": \"\"\n      }\n    },\n    {\n      \"column\": \"Elevation_ft\",\n      \"properties\": {\n        \"dtype\": \"number\",\n        \"std\": 1086,\n        \"min\": 6001,\n        \"max\": 9199,\n        \"num_unique_values\": 9,\n        \"samples\": [\n          7001,\n          7342,\n          6001\n        ],\n        \"semantic_type\": \"\",\n        \"description\": \"\"\n      }\n    },\n    {\n      \"column\": \"Mean_annual_temp_C\",\n      \"properties\": {\n        \"dtype\": \"number\",\n        \"std\": 1.8012341448141727,\n        \"min\": 12.4,\n        \"max\": 18.2,\n        \"num_unique_values\": 8,\n        \"samples\": [\n          14.9,\n          16.8,\n          15.7\n        ],\n        \"semantic_type\": \"\",\n        \"description\": \"\"\n      }\n    }\n  ]\n}"
            }
          },
          "metadata": {},
          "execution_count": 44
        }
      ]
    },
    {
      "cell_type": "code",
      "execution_count": null,
      "id": "04323a54-518c-4dec-908a-4fa699a192bb",
      "metadata": {
        "id": "04323a54-518c-4dec-908a-4fa699a192bb"
      },
      "outputs": [],
      "source": [
        "X = weather_stations_df[['Elevation_ft']]\n",
        "\n",
        "y = weather_stations_df['Mean_annual_temp_C']"
      ]
    },
    {
      "cell_type": "code",
      "source": [
        "regr = LinearRegression().fit(X, y)\n",
        "# reg.score(X, y)"
      ],
      "metadata": {
        "id": "O1BKe8VTifh8"
      },
      "id": "O1BKe8VTifh8",
      "execution_count": null,
      "outputs": []
    },
    {
      "cell_type": "code",
      "execution_count": null,
      "id": "8d9bb538-884a-4a4d-9241-9f3def32b94f",
      "metadata": {
        "id": "8d9bb538-884a-4a4d-9241-9f3def32b94f"
      },
      "outputs": [],
      "source": [
        "# Create linear regression object\n",
        "\n",
        "\n",
        "# Train the model using the training sets\n",
        "# regr.fit(X, y)"
      ]
    },
    {
      "cell_type": "code",
      "execution_count": null,
      "id": "ce702f4c-422d-4a07-874a-7226068e6415",
      "metadata": {
        "colab": {
          "base_uri": "https://localhost:8080/"
        },
        "id": "ce702f4c-422d-4a07-874a-7226068e6415",
        "outputId": "137a7caf-bb26-48a2-86bd-39c053399019"
      },
      "outputs": [
        {
          "output_type": "execute_result",
          "data": {
            "text/plain": [
              "0.9315933823135263"
            ]
          },
          "metadata": {},
          "execution_count": 48
        }
      ],
      "source": [
        "regr.score(X, y)"
      ]
    },
    {
      "cell_type": "code",
      "execution_count": null,
      "id": "ff3797ab-4ef1-4cf2-b505-f02fa8f807f9",
      "metadata": {
        "colab": {
          "base_uri": "https://localhost:8080/"
        },
        "id": "ff3797ab-4ef1-4cf2-b505-f02fa8f807f9",
        "outputId": "f0c9aaeb-1d2e-4cf5-885f-a7825e5f0052"
      },
      "outputs": [
        {
          "output_type": "stream",
          "name": "stdout",
          "text": [
            "Coefficient a: \n",
            " [-0.00159945]\n",
            "Intercept b: \n",
            " 26.984999767358786\n"
          ]
        }
      ],
      "source": [
        "# The coefficients\n",
        "print(\"Coefficient a: \\n\", regr.coef_)\n",
        "print(\"Intercept b: \\n\", regr.intercept_)\n",
        "\n",
        "# Plot regression line and scatter plot\n"
      ]
    },
    {
      "cell_type": "markdown",
      "id": "509494b8-772f-4af0-8c47-5811395b7d20",
      "metadata": {
        "id": "509494b8-772f-4af0-8c47-5811395b7d20"
      },
      "source": [
        "- load elevation raster"
      ]
    },
    {
      "cell_type": "code",
      "execution_count": null,
      "id": "a803ca8d-642e-42ff-aa72-1af3af454339",
      "metadata": {
        "colab": {
          "base_uri": "https://localhost:8080/",
          "height": 34
        },
        "id": "a803ca8d-642e-42ff-aa72-1af3af454339",
        "outputId": "373ed23b-bde2-4673-e906-c8ccf8bbcba3"
      },
      "outputs": [
        {
          "output_type": "display_data",
          "data": {
            "text/plain": [
              "(267, 191)"
            ]
          },
          "metadata": {}
        }
      ],
      "source": [
        "elev_arr = nrelief_src.read(1)\n",
        "display(elev_arr.shape)"
      ]
    },
    {
      "cell_type": "code",
      "execution_count": null,
      "id": "0319f254-84a5-41d4-ab90-2a2293892833",
      "metadata": {
        "id": "0319f254-84a5-41d4-ab90-2a2293892833"
      },
      "outputs": [],
      "source": [
        "# maybe check the histgram\n",
        "# from rasterio.plot import show_hist\n",
        "# or plain matplotlib"
      ]
    },
    {
      "cell_type": "code",
      "execution_count": null,
      "id": "9dba48d1-e2e2-4838-9279-0529374ca8f7",
      "metadata": {
        "colab": {
          "base_uri": "https://localhost:8080/",
          "height": 1000
        },
        "id": "9dba48d1-e2e2-4838-9279-0529374ca8f7",
        "outputId": "f6ec32b5-f6ac-442f-8623-b3d5af0dae48"
      },
      "outputs": [
        {
          "output_type": "display_data",
          "data": {
            "text/plain": [
              "<Figure size 1000x1000 with 2 Axes>"
            ],
            "image/png": "[encoded data removed]"
          },
          "metadata": {}
        }
      ],
      "source": [
        "# plot the raster band 1 (the only band)\n",
        "from rasterio.plot import show\n",
        "\n",
        "fig, ax = plt.subplots(figsize=(10,10))\n",
        "# this is a trick to get the colorbar out of the rasterio plot (which has georeference, plt.imshow only shows the numpy array positions)\n",
        "image_hidden = ax.imshow(elev_arr, cmap=\"gist_earth\")\n",
        "fig.colorbar(image_hidden, ax=ax)\n",
        "\n",
        "show(nrelief_src, 1, cmap=\"gist_earth\", ax=ax)\n",
        "\n",
        "plt.tight_layout()"
      ]
    },
    {
      "cell_type": "markdown",
      "id": "c2192724-1c77-462c-8d28-5f135bf90de2",
      "metadata": {
        "id": "c2192724-1c77-462c-8d28-5f135bf90de2"
      },
      "source": [
        "### Apply regression model to elevation raster\n",
        "\n",
        "- map algebra\n",
        "- create new temperature raster"
      ]
    },
    {
      "cell_type": "code",
      "execution_count": null,
      "id": "83d3b1f9-3f52-4cfb-a78e-66371e878899",
      "metadata": {
        "id": "83d3b1f9-3f52-4cfb-a78e-66371e878899"
      },
      "outputs": [],
      "source": [
        "# Temperature raster = a[nrelief.tiff] +b\n",
        "temp_arr = ..."
      ]
    },
    {
      "cell_type": "code",
      "execution_count": null,
      "id": "400fb8c4-f83c-4f60-8239-734246adab5c",
      "metadata": {
        "id": "400fb8c4-f83c-4f60-8239-734246adab5c"
      },
      "outputs": [],
      "source": []
    },
    {
      "cell_type": "code",
      "execution_count": null,
      "id": "ce010bc1-09b1-44b6-a1c0-2c4b8e9dbfea",
      "metadata": {
        "id": "ce010bc1-09b1-44b6-a1c0-2c4b8e9dbfea"
      },
      "outputs": [],
      "source": [
        "# plot temperature raster, try cmap \"coolwarm\""
      ]
    },
    {
      "cell_type": "markdown",
      "id": "c1788f27-04ef-40c7-8776-989533f1a43e",
      "metadata": {
        "id": "c1788f27-04ef-40c7-8776-989533f1a43e"
      },
      "source": [
        "### Reclassify\n",
        "\n",
        "- map algebra\n",
        "- create new categorical temperature zones raster"
      ]
    },
    {
      "cell_type": "code",
      "execution_count": null,
      "id": "c3470e34-3522-4cc4-9ac8-1227b59f1624",
      "metadata": {
        "id": "c3470e34-3522-4cc4-9ac8-1227b59f1624"
      },
      "outputs": [],
      "source": [
        "# for the lazy ones not wanting to type in the table\n",
        "\n",
        "Temperature_zones = \"\"\"Temperature Zone\tTemperature Range (C)\n",
        "9\t<10\n",
        "8\t10-12\n",
        "7\t12-14\n",
        "6\t14-16\n",
        "5\t16-18\n",
        "4\t18-20\n",
        "3\t20-22\n",
        "2\t22-24\n",
        "1\t24-30\"\"\"\n",
        "\n",
        "tez = pd.read_table(io.StringIO(Temperature_zones))\n",
        "tez"
      ]
    },
    {
      "cell_type": "code",
      "execution_count": null,
      "id": "2e583037-e9c4-4f59-9010-9c7286b7e9e5",
      "metadata": {
        "id": "2e583037-e9c4-4f59-9010-9c7286b7e9e5"
      },
      "outputs": [],
      "source": [
        "tez.info()"
      ]
    },
    {
      "cell_type": "markdown",
      "id": "e9baeded-b440-4021-b33f-11bbac1f0cab",
      "metadata": {
        "id": "e9baeded-b440-4021-b33f-11bbac1f0cab"
      },
      "source": [
        "### Classification through numpy digitize, using bins with class bounds\n",
        "\n",
        "In order to make easy use of numpy's classification function we need to provide class bounds for the bins (aka classes). Numpy Masked Array (ma) is only needed to keep track of nodata values, in case there are any\n",
        "\n",
        "- [np.digitize](https://numpy.org/doc/stable/reference/generated/numpy.digitize.html)\n",
        "- [np.ma.getmask](https://numpy.org/doc/stable/reference/generated/numpy.ma.getmask.html)\n",
        "- [np.ma.masked_where](https://numpy.org/doc/stable/reference/generated/numpy.ma.masked_where.html)\n"
      ]
    },
    {
      "cell_type": "code",
      "execution_count": null,
      "id": "80a245ac-fa28-47b2-92ef-c8049fedef72",
      "metadata": {
        "id": "80a245ac-fa28-47b2-92ef-c8049fedef72"
      },
      "outputs": [],
      "source": [
        "# take the (upper) class bounds  from the TEZ table\n",
        "tez['class_bounds'] = pd.to_numeric(tez[ 'which column' ].apply(lambda x: x[-2:]))\n",
        "\n",
        "# Create classes from given table\n",
        "tez_bins = tez['class_bounds'].to_list()\n",
        "\n",
        "# add lower class bounds (negative infinite)\n",
        "tez_bins = [-np.inf] + tez_bins\n",
        "\n",
        "# attention, we need to keep track of the ID/numbers for the Temperature zone\n",
        "# short cut here is to reverse the list\n",
        "\n",
        "# hint 'reverse'\n",
        "\n",
        "display(tez_bins)\n",
        "\n",
        "# apply  np.digitize classes to Temperature array\n",
        "tez_classified = np.digitize( 'temperature raster array' , 'bins list')\n",
        "\n",
        "# Apply a nodata mask to the newly classified data (for the nan inf number fields in case)\n",
        "tez_classified = np.ma.masked_where(np.ma.getmask(temp_arr), tez_classified)\n",
        "\n",
        "# and check the number of unique values in our now classified dataset\n",
        "display(np.unique(tez_classified))"
      ]
    },
    {
      "cell_type": "markdown",
      "id": "b9a70f55-4fd1-437b-bb21-37a43d616f0c",
      "metadata": {
        "id": "b9a70f55-4fd1-437b-bb21-37a43d616f0c"
      },
      "source": [
        "### make a legend for the Zones"
      ]
    },
    {
      "cell_type": "code",
      "execution_count": null,
      "id": "a772fd59-c863-4f8f-b4bd-4b824b11e686",
      "metadata": {
        "id": "a772fd59-c863-4f8f-b4bd-4b824b11e686"
      },
      "outputs": [],
      "source": [
        "values = np.unique(tez_classified)\n",
        "\n",
        "fig, ax = plt.subplots(figsize=(10,10))\n",
        "img = ax.imshow(tez_classified, cmap=\"coolwarm_r\", interpolation='none')\n",
        "\n",
        "# get the colors of the values, according to the\n",
        "# colormap used by imshow\n",
        "colors = [ img.cmap(img.norm(value)) for value in values]\n",
        "# create a patch (proxy artist) for every color\n",
        "patches = [ mpatches.Patch(color=colors[i], label=\"Zone {l}\".format(l=values[i]) ) for i in range(len(values)) ]\n",
        "# put those patched as legend-handles into the legend\n",
        "plt.legend(handles=patches, bbox_to_anchor=(1.05, 1), loc=2, borderaxespad=0. )\n",
        "\n",
        "plt.grid(True)\n",
        "plt.show()\n"
      ]
    },
    {
      "cell_type": "markdown",
      "id": "a6ee39e9-625e-489e-9adf-1f250eabfe32",
      "metadata": {
        "id": "a6ee39e9-625e-489e-9adf-1f250eabfe32"
      },
      "source": [
        "### write out for later\n",
        "\n",
        "- copy spatial metadata (incl. origin, resolution, coordinate reference system) from base raster (nrelief.tif), location and extent haven't changed\n",
        "- write numpy array as georeferenced raster"
      ]
    },
    {
      "cell_type": "code",
      "execution_count": null,
      "id": "95e7ec71-83ec-43e1-b50b-0903ac75f6f4",
      "metadata": {
        "id": "95e7ec71-83ec-43e1-b50b-0903ac75f6f4"
      },
      "outputs": [],
      "source": [
        "out_meta = nrelief_src.meta.copy()\n",
        "\n",
        "with rasterio.open(\"tez_classified.tif\", \"w\", **out_meta) as dest:\n",
        "    dest.write(tez_classified, 1)"
      ]
    },
    {
      "cell_type": "markdown",
      "id": "00412125-23db-4775-b314-bfcbf77c95cd",
      "metadata": {
        "id": "00412125-23db-4775-b314-bfcbf77c95cd"
      },
      "source": [
        "## Second path: Prepare moisture availability zones raster\n",
        "\n",
        "### Evaporation raster\n",
        "\n",
        "- apply evap model to elevation raster\n",
        "- map algebra, create new evaporation raster"
      ]
    },
    {
      "cell_type": "code",
      "execution_count": null,
      "id": "42003e09-8744-4a37-81d5-03191ce0f61d",
      "metadata": {
        "id": "42003e09-8744-4a37-81d5-03191ce0f61d"
      },
      "outputs": [],
      "source": [
        "# evaporation raster = 2422 - (0.109*[nrelief.tiff])\n",
        "evap_arr =\n",
        "evap_arr"
      ]
    },
    {
      "cell_type": "code",
      "execution_count": null,
      "id": "6f6b41ee-f92c-408c-9f19-0dadcbe3ca44",
      "metadata": {
        "id": "6f6b41ee-f92c-408c-9f19-0dadcbe3ca44"
      },
      "outputs": [],
      "source": [
        "# plot map to see\n"
      ]
    },
    {
      "cell_type": "markdown",
      "id": "e12c1086-1954-4f97-8278-04482c93fe3e",
      "metadata": {
        "id": "e12c1086-1954-4f97-8278-04482c93fe3e"
      },
      "source": [
        "### moisture availability raster\n",
        "\n",
        "- map algebra: moisture availability = mean annual rainfall / potential evaporation\n",
        "- create new moisture availability raster"
      ]
    },
    {
      "cell_type": "code",
      "execution_count": null,
      "id": "8bae018c-7482-49ae-8190-9397c25d813d",
      "metadata": {
        "id": "8bae018c-7482-49ae-8190-9397c25d813d"
      },
      "outputs": [],
      "source": [
        "# moisture availability = mean annual rainfall / potential evaporation\n",
        "# make sure evap array and rainfall raster are aligned, check raster metadata\n",
        "\n",
        "display(nrain_src.meta)\n",
        "display(nrelief_src.meta)"
      ]
    },
    {
      "cell_type": "code",
      "execution_count": null,
      "id": "a34931e1-2c2f-4ad9-98d3-b4181a1f13fd",
      "metadata": {
        "id": "a34931e1-2c2f-4ad9-98d3-b4181a1f13fd"
      },
      "outputs": [],
      "source": [
        "\n"
      ]
    },
    {
      "cell_type": "code",
      "execution_count": null,
      "id": "6ff9172b-5f5a-47b6-8283-3efa8dc685ca",
      "metadata": {
        "id": "6ff9172b-5f5a-47b6-8283-3efa8dc685ca"
      },
      "outputs": [],
      "source": [
        "# create moisture availability raster\n",
        "# nrain raster / evap_arr\n",
        "mois_arr =\n"
      ]
    },
    {
      "cell_type": "code",
      "execution_count": null,
      "id": "b184a0bc-cbc3-435c-916a-8ddfc5b0e5b5",
      "metadata": {
        "id": "b184a0bc-cbc3-435c-916a-8ddfc5b0e5b5"
      },
      "outputs": [],
      "source": [
        "# plot moisture availability raster"
      ]
    },
    {
      "cell_type": "code",
      "execution_count": null,
      "id": "927b4dcd-7707-4a5c-965a-9476e6dc1c75",
      "metadata": {
        "id": "927b4dcd-7707-4a5c-965a-9476e6dc1c75"
      },
      "outputs": [],
      "source": []
    },
    {
      "cell_type": "markdown",
      "id": "e19458ce-8368-45a0-affc-a513039a285a",
      "metadata": {
        "id": "e19458ce-8368-45a0-affc-a513039a285a"
      },
      "source": [
        "### Reclassify\n",
        "\n",
        "- map algebra\n",
        "- create new categorical moisture availability zones raster\n",
        "- very similar steps as before"
      ]
    },
    {
      "cell_type": "code",
      "execution_count": null,
      "id": "3c2af9a7-52e1-43eb-920b-e1093804bb99",
      "metadata": {
        "id": "3c2af9a7-52e1-43eb-920b-e1093804bb99"
      },
      "outputs": [],
      "source": [
        "# your lazy short cut\n",
        "\n",
        "Moisture_availability_zones = \"\"\"Moisture Availability Zone\tMoisture Availability Range\n",
        "7\t<0.15\n",
        "6\t0.15-0.25\n",
        "5\t0.25-0.40\n",
        "4\t0.40-0.50\n",
        "3\t0.50-0.65\n",
        "2\t0.65-0.80\n",
        "1\t>0.80\"\"\"\n"
      ]
    },
    {
      "cell_type": "code",
      "execution_count": null,
      "id": "98003240-fac2-4ea1-99de-714dfba0d5e1",
      "metadata": {
        "id": "98003240-fac2-4ea1-99de-714dfba0d5e1"
      },
      "outputs": [],
      "source": [
        "... pd.to_numeric(maz['column'].apply(lambda x: 'take the last 4 characters'))"
      ]
    },
    {
      "cell_type": "code",
      "execution_count": null,
      "id": "fb589b38-4ce5-48a5-b78b-fa78ca050b2b",
      "metadata": {
        "id": "fb589b38-4ce5-48a5-b78b-fa78ca050b2b"
      },
      "outputs": [],
      "source": [
        "# Create class bounds into bins from above table\n",
        "\n",
        "# make sure you fill at the end or at the beginning an infinite bounds to capture above/below\n",
        "\n",
        "# consider bin list ordering\n",
        "maz_bins"
      ]
    },
    {
      "cell_type": "code",
      "execution_count": null,
      "id": "0e1bd402-7a85-468b-9d32-d3651823e8c9",
      "metadata": {
        "id": "0e1bd402-7a85-468b-9d32-d3651823e8c9"
      },
      "outputs": [],
      "source": [
        "# apply classes to moisture availability array\n",
        "maz_classified = np.digitize('moisture availability raster' , 'class bounds bin list')"
      ]
    },
    {
      "cell_type": "code",
      "execution_count": null,
      "id": "e524b93d-f6f5-4118-b38e-53147f775cb9",
      "metadata": {
        "id": "e524b93d-f6f5-4118-b38e-53147f775cb9"
      },
      "outputs": [],
      "source": [
        "# Apply a nodata mask to the newly classified data (for the nan inf number fields in case)\n",
        "maz_classified = np.ma.masked_where(np.ma.getmask(mois_arr), maz_classified)\n",
        "\n",
        "# and check the number of unique values in our now classified dataset\n",
        "np.unique(maz_classified)"
      ]
    },
    {
      "cell_type": "code",
      "execution_count": null,
      "id": "e2413e4c-1939-48b5-b4a0-1ed99eeb5e78",
      "metadata": {
        "id": "e2413e4c-1939-48b5-b4a0-1ed99eeb5e78"
      },
      "outputs": [],
      "source": [
        "mois_arr.min()"
      ]
    },
    {
      "cell_type": "code",
      "execution_count": null,
      "id": "c666404f-1939-4dae-9bc0-b358fabd9422",
      "metadata": {
        "id": "c666404f-1939-4dae-9bc0-b358fabd9422"
      },
      "outputs": [],
      "source": [
        "mois_arr.max()"
      ]
    },
    {
      "cell_type": "code",
      "execution_count": null,
      "id": "4a870409-c421-456c-b19f-d59224791111",
      "metadata": {
        "id": "4a870409-c421-456c-b19f-d59224791111"
      },
      "outputs": [],
      "source": [
        "# plot classified moisture availability raster"
      ]
    },
    {
      "cell_type": "code",
      "execution_count": null,
      "id": "f2998579-586b-4687-bda0-889d32c6006a",
      "metadata": {
        "id": "f2998579-586b-4687-bda0-889d32c6006a"
      },
      "outputs": [],
      "source": [
        "# plot with a nice legend, create legend patches like before\n",
        "\n"
      ]
    },
    {
      "cell_type": "markdown",
      "id": "139900e4-73ea-475e-969a-d7adf63e31e3",
      "metadata": {
        "id": "139900e4-73ea-475e-969a-d7adf63e31e3"
      },
      "source": [
        "### write out for later\n",
        "\n",
        "- copy spatial metadata (incl. origin, resolution, coordinate reference system) from base raster (nrelief.tif), location and extent haven't changed\n",
        "- write numpy array as georeferenced raster"
      ]
    },
    {
      "cell_type": "code",
      "execution_count": null,
      "id": "59477a99-edc1-4e91-9724-a759b989f7aa",
      "metadata": {
        "id": "59477a99-edc1-4e91-9724-a759b989f7aa"
      },
      "outputs": [],
      "source": [
        "\n"
      ]
    },
    {
      "cell_type": "code",
      "execution_count": null,
      "id": "46c1b704-ad6d-4f82-ae55-420f38126232",
      "metadata": {
        "id": "46c1b704-ad6d-4f82-ae55-420f38126232"
      },
      "outputs": [],
      "source": []
    },
    {
      "cell_type": "markdown",
      "id": "c16854ef-7ac2-460f-a8c0-ded556e5d52c",
      "metadata": {
        "id": "c16854ef-7ac2-460f-a8c0-ded556e5d52c"
      },
      "source": [
        "### Combine the two classified rasters to create agro-climatic zones\n",
        "\n",
        "Now that we have images of temperature zones and moisture availability zones, we can combine these to create agro-climatic zones. Each resulting agro-climatic zone should be the result of a unique combination of temperature zone and moisture zone.\n",
        "\n",
        "However, for this step we can't use normal map algebra because we are not doing calculation but combining the values.\n",
        "\n",
        "You need to write a function that will assign new class values to every unique combination. To see what combination is behind every new class value, create a legend that shows which zones were created together with your raster.\n",
        "\n",
        "Create a map of agro-climatic zones for your report. In the legend, show the original value combinations e.g. 2-5, 1-6 etc.\n"
      ]
    },
    {
      "cell_type": "code",
      "execution_count": null,
      "id": "39a3192d-2de4-460f-a1a3-c13dc8e90efa",
      "metadata": {
        "id": "39a3192d-2de4-460f-a1a3-c13dc8e90efa"
      },
      "outputs": [],
      "source": [
        "display(nrelief_src.read(1).shape)\n",
        "display(maz_classified.shape)\n",
        "display(tez_classified.shape)"
      ]
    },
    {
      "cell_type": "code",
      "execution_count": null,
      "id": "5952a179-b5e9-4172-a341-97ddfb4b8c22",
      "metadata": {
        "id": "5952a179-b5e9-4172-a341-97ddfb4b8c22"
      },
      "outputs": [],
      "source": [
        "assert( maz_classified.shape ==  tez_classified.shape)\n",
        "orig_shape = maz_classified.shape\n",
        "\n",
        "# .reshape(orig_shape)\n",
        "# .flatten()\n",
        "\n",
        "# joint_arr = np.array([flattened, ...]).T"
      ]
    },
    {
      "cell_type": "code",
      "execution_count": null,
      "id": "158a287e-775d-4634-bdcb-cabf4906c469",
      "metadata": {
        "id": "158a287e-775d-4634-bdcb-cabf4906c469"
      },
      "outputs": [],
      "source": [
        "cross_unique = np.unique(joint_arr, axis = 0)\n",
        "cross_unique"
      ]
    },
    {
      "cell_type": "code",
      "execution_count": null,
      "id": "a4ea5c9c-25ca-487b-aa02-ced73bb47079",
      "metadata": {
        "id": "a4ea5c9c-25ca-487b-aa02-ced73bb47079"
      },
      "outputs": [],
      "source": [
        "# create a place where you store the IDs for unique zones combinations\n",
        "# for example a dict, use it for lookup when labeling the final combined raster with the IDs of your unique combinations\n",
        "category_dict = {}\n",
        "\n"
      ]
    },
    {
      "cell_type": "markdown",
      "id": "e8567a75-a601-4386-84fa-df4d13fd3e7c",
      "metadata": {
        "id": "e8567a75-a601-4386-84fa-df4d13fd3e7c"
      },
      "source": [
        "### For example, agro-clim zone id and unique combination\n",
        "\n",
        "    Zone 0: (1, 6)\n",
        "    Zone 1: (1, 7)\n",
        "    Zone 2: (1, 8)\n",
        "    Zone 3: (2, 5)\n",
        "    Zone 4: (2, 6)\n",
        "    Zone 5: (2, 7)\n",
        "    Zone 6: (2, 8)\n",
        "    Zone 7: (3, 5)\n",
        "    Zone 8: (3, 6)\n",
        "    Zone 9: (3, 7)\n",
        "    Zone 10: (4, 5)\n",
        "    Zone 11: (4, 6)\n",
        "    Zone 12: (5, 5)"
      ]
    },
    {
      "cell_type": "code",
      "execution_count": null,
      "id": "041fec84-fe5e-4a08-ac2a-e815e79bc2fc",
      "metadata": {
        "id": "041fec84-fe5e-4a08-ac2a-e815e79bc2fc"
      },
      "outputs": [],
      "source": []
    },
    {
      "cell_type": "code",
      "execution_count": null,
      "id": "53551b54-9063-42ef-a369-cc0a7fb8b6ab",
      "metadata": {
        "id": "53551b54-9063-42ef-a369-cc0a7fb8b6ab"
      },
      "outputs": [],
      "source": []
    },
    {
      "cell_type": "code",
      "execution_count": null,
      "id": "15554d52-5ef6-4156-a185-472fb5f89bd5",
      "metadata": {
        "id": "15554d52-5ef6-4156-a185-472fb5f89bd5"
      },
      "outputs": [],
      "source": []
    },
    {
      "cell_type": "code",
      "execution_count": null,
      "id": "ff1e1c55-80cf-4136-8165-70d90d0d46ee",
      "metadata": {
        "id": "ff1e1c55-80cf-4136-8165-70d90d0d46ee"
      },
      "outputs": [],
      "source": [
        "# would be easy to reshape from a flattened array to original dimensions for the newly labeled raster\n",
        "new_arr = new_arr.reshape(orig_shape)"
      ]
    },
    {
      "cell_type": "code",
      "execution_count": null,
      "id": "207faef7-8ef0-43db-83a7-ac65fc438f14",
      "metadata": {
        "id": "207faef7-8ef0-43db-83a7-ac65fc438f14"
      },
      "outputs": [],
      "source": [
        "new_arr"
      ]
    },
    {
      "cell_type": "code",
      "execution_count": null,
      "id": "300695c8-0313-4966-a222-a0760ce7453a",
      "metadata": {
        "id": "300695c8-0313-4966-a222-a0760ce7453a"
      },
      "outputs": [],
      "source": [
        "category_combos = list(map(lambda k: str(k), category_dict.keys()))\n",
        "category_combos"
      ]
    },
    {
      "cell_type": "code",
      "execution_count": null,
      "id": "ce9b8627-71ac-4ac2-a33a-30bb7d227213",
      "metadata": {
        "id": "ce9b8627-71ac-4ac2-a33a-30bb7d227213"
      },
      "outputs": [],
      "source": [
        "# plot the new raster, add the combinations to the legend patch label text\n",
        "...\n",
        "patches = [ mpatches.Patch(color=colors[i], label=\"Zone {l} - {combo}\".format(l=values[i], combo=category_combos[i]) ) for i in range(len(values)) ]\n",
        "..."
      ]
    },
    {
      "cell_type": "markdown",
      "id": "c3e66be5-bb96-4c2f-a31a-d70d47153eee",
      "metadata": {
        "id": "c3e66be5-bb96-4c2f-a31a-d70d47153eee"
      },
      "source": [
        "### write out for later\n",
        "\n",
        "- copy spatial metadata (incl. origin, resolution, coordinate reference system) from base raster (nrelief.tif), location and extent haven't changed\n",
        "- write numpy array as georeferenced raster"
      ]
    },
    {
      "cell_type": "code",
      "execution_count": null,
      "id": "40d4f811-c4ef-4ce1-afa5-a65808502a27",
      "metadata": {
        "id": "40d4f811-c4ef-4ce1-afa5-a65808502a27"
      },
      "outputs": [],
      "source": [
        "# write raster out into agro-clim zone raster file"
      ]
    },
    {
      "cell_type": "code",
      "execution_count": null,
      "id": "28a1347e-3dc9-4278-a81e-faf19ced4818",
      "metadata": {
        "id": "28a1347e-3dc9-4278-a81e-faf19ced4818"
      },
      "outputs": [],
      "source": [
        "# reopend raster from geotiff and plot with legend again to be sure\n"
      ]
    },
    {
      "cell_type": "code",
      "execution_count": null,
      "id": "aa6e9d4e-82fc-4d67-8df6-1ceb358d39c6",
      "metadata": {
        "id": "aa6e9d4e-82fc-4d67-8df6-1ceb358d39c6"
      },
      "outputs": [],
      "source": [
        "with rasterio.open(\"agro-clim zone raster file\") as src2:\n",
        "    ...\n",
        "    plt.legend(handles=patches, bbox_to_anchor=(1.05, 1), loc=2, borderaxespad=0. )\n",
        "    ..."
      ]
    },
    {
      "cell_type": "markdown",
      "id": "dd1dd6ad-0381-4652-a675-1619cf0a2bbc",
      "metadata": {
        "id": "dd1dd6ad-0381-4652-a675-1619cf0a2bbc"
      },
      "source": [
        "### Calculate the areas of agro-climatic zones in hectares\n",
        "\n",
        "The last step would be to calculate areas for each agro-climatic zone and identify the biggest agro-climatic zone. Calculate the areas of agro-climatic zones in hectares. Find the biggest agro-climatic zone and it’s area in hectares and add this to Moodle as comment when submitting the maps.\n"
      ]
    },
    {
      "cell_type": "code",
      "execution_count": null,
      "id": "1e2bef4b-aa5e-48fa-95c1-f842a9a17bc5",
      "metadata": {
        "id": "1e2bef4b-aa5e-48fa-95c1-f842a9a17bc5"
      },
      "outputs": [],
      "source": [
        "with rasterio.open(\"agro_classified.tif\") as src:\n",
        "    data = src.read(1)\n",
        "    source_meta = src.meta"
      ]
    },
    {
      "cell_type": "code",
      "execution_count": null,
      "id": "91b3c316-bcbb-4ba7-9104-42e443dfcd1e",
      "metadata": {
        "id": "91b3c316-bcbb-4ba7-9104-42e443dfcd1e"
      },
      "outputs": [],
      "source": [
        "data.shape"
      ]
    },
    {
      "cell_type": "code",
      "execution_count": null,
      "id": "c9df69ca-c3a9-420d-b647-00c3093c5e8a",
      "metadata": {
        "id": "c9df69ca-c3a9-420d-b647-00c3093c5e8a"
      },
      "outputs": [],
      "source": [
        "source_meta"
      ]
    },
    {
      "cell_type": "markdown",
      "id": "367d3291-bc2e-4018-8b1b-0fd191306b9e",
      "metadata": {
        "id": "367d3291-bc2e-4018-8b1b-0fd191306b9e"
      },
      "source": [
        "### Pixel size\n",
        "\n",
        "- Affine(a, b, c, d, e, f)\n",
        "- parameter order depends on implementation\n",
        "- the transform or geotransform: https://rasterio.readthedocs.io/en/latest/topics/georeferencing.html#affine\n",
        "\n",
        "\n",
        "      a=cell_unit_sizeX (in crs units), b=0, c=xulcorner (from crs origin),\n",
        "      d=0, e= -cell_unit_sizeY (in crs units), f=yulcorner (from crs origin)\n",
        "      \n",
        "      pixel_area = a*-e (for rasterio Affine)"
      ]
    },
    {
      "cell_type": "code",
      "execution_count": null,
      "id": "ace6a17c-7bba-4f1c-a76a-04dedbef2676",
      "metadata": {
        "id": "ace6a17c-7bba-4f1c-a76a-04dedbef2676"
      },
      "outputs": [],
      "source": [
        "# calculate per pixel area"
      ]
    },
    {
      "cell_type": "code",
      "execution_count": null,
      "id": "8763fe80-e620-48f1-92ca-d6695ba2b5ff",
      "metadata": {
        "id": "8763fe80-e620-48f1-92ca-d6695ba2b5ff"
      },
      "outputs": [],
      "source": [
        "area_info = []\n",
        "\n",
        "# count all pixels for each category (unique agro-climate zone), multiply by pixel size, consider units"
      ]
    },
    {
      "cell_type": "code",
      "execution_count": null,
      "id": "6ab1446e-a6b2-4523-8551-25772151c271",
      "metadata": {
        "id": "6ab1446e-a6b2-4523-8551-25772151c271"
      },
      "outputs": [],
      "source": [
        "import pandas as pd\n",
        "\n",
        "# dataframe for easy summary table\n",
        "summary = pd.DataFrame(area_info, columns=[\"zone\", \"counts\", \"area_ha\"])\n",
        "\n",
        "# what is the larges zone"
      ]
    },
    {
      "cell_type": "code",
      "execution_count": null,
      "id": "042ab26a-48cf-4f12-b577-3ce4d6d58de6",
      "metadata": {
        "id": "042ab26a-48cf-4f12-b577-3ce4d6d58de6"
      },
      "outputs": [],
      "source": [
        "# write to csv just to be sure\n",
        "summary.to_csv(\"agro_zones.csv\", index=True)"
      ]
    },
    {
      "cell_type": "code",
      "execution_count": null,
      "id": "9866badd-3d5d-44db-be09-a8546b9e656e",
      "metadata": {
        "id": "9866badd-3d5d-44db-be09-a8546b9e656e"
      },
      "outputs": [],
      "source": []
    }
  ],
  "metadata": {
    "kernelspec": {
      "display_name": "geopy2021a",
      "language": "python",
      "name": "geopy2021a"
    },
    "language_info": {
      "codemirror_mode": {
        "name": "ipython",
        "version": 3
      },
      "file_extension": ".py",
      "mimetype": "text/x-python",
      "name": "python",
      "nbconvert_exporter": "python",
      "pygments_lexer": "ipython3",
      "version": "3.8.12"
    },
    "colab": {
      "provenance": [],
      "include_colab_link": true
    }
  },
  "nbformat": 4,
  "nbformat_minor": 5
}